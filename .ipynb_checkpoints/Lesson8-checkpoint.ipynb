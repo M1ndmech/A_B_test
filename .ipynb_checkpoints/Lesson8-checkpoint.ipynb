{
 "cells": [
  {
   "cell_type": "markdown",
   "id": "7dadb2eb",
   "metadata": {},
   "source": [
    "# Урок 8. Python применение статистических критериев на практике - пайплайн оценки A/B"
   ]
  },
  {
   "cell_type": "markdown",
   "id": "27662066",
   "metadata": {},
   "source": [
    "На сайте запущен А/В тест с целью увеличить доход.  \n",
    "В приложенном excel файле вы найдете сырые данные  \n",
    "по результатам эксперимента – user_id,  \n",
    "тип выборки variant_name  \n",
    "и доход принесенный пользователем revenue.\n",
    "\n",
    "Проанализируйте результаты эксперимента и напишите свои рекомендации менеджеру."
   ]
  },
  {
   "cell_type": "code",
   "execution_count": 2,
   "id": "89334f3a",
   "metadata": {},
   "outputs": [],
   "source": [
    "from scipy.stats import ttest_1samp\n",
    "from scipy.stats import ttest_ind\n",
    "from scipy.stats import kstest\n",
    "from scipy.stats import mannwhitneyu\n",
    "from scipy.stats import norm\n",
    "\n",
    "import pandas as pd\n",
    "import numpy as np\n",
    "import seaborn as sns\n",
    "\n",
    "from tqdm import tqdm\n",
    "import matplotlib.pyplot as plt\n",
    "\n",
    "import warnings\n",
    "warnings.simplefilter(\"ignore\")"
   ]
  },
  {
   "cell_type": "code",
   "execution_count": 4,
   "id": "9745c4c3",
   "metadata": {},
   "outputs": [
    {
     "data": {
      "text/html": [
       "<div>\n",
       "<style scoped>\n",
       "    .dataframe tbody tr th:only-of-type {\n",
       "        vertical-align: middle;\n",
       "    }\n",
       "\n",
       "    .dataframe tbody tr th {\n",
       "        vertical-align: top;\n",
       "    }\n",
       "\n",
       "    .dataframe thead th {\n",
       "        text-align: right;\n",
       "    }\n",
       "</style>\n",
       "<table border=\"1\" class=\"dataframe\">\n",
       "  <thead>\n",
       "    <tr style=\"text-align: right;\">\n",
       "      <th></th>\n",
       "      <th>revenue</th>\n",
       "      <th>num_purchases</th>\n",
       "      <th>purchase</th>\n",
       "      <th>ab_group</th>\n",
       "      <th>av_site visit</th>\n",
       "    </tr>\n",
       "  </thead>\n",
       "  <tbody>\n",
       "    <tr>\n",
       "      <th>0</th>\n",
       "      <td>0.0</td>\n",
       "      <td>0</td>\n",
       "      <td>0</td>\n",
       "      <td>A</td>\n",
       "      <td>9.040174</td>\n",
       "    </tr>\n",
       "    <tr>\n",
       "      <th>1</th>\n",
       "      <td>0.0</td>\n",
       "      <td>0</td>\n",
       "      <td>0</td>\n",
       "      <td>A</td>\n",
       "      <td>4.811628</td>\n",
       "    </tr>\n",
       "    <tr>\n",
       "      <th>2</th>\n",
       "      <td>0.0</td>\n",
       "      <td>0</td>\n",
       "      <td>0</td>\n",
       "      <td>A</td>\n",
       "      <td>7.342623</td>\n",
       "    </tr>\n",
       "    <tr>\n",
       "      <th>3</th>\n",
       "      <td>0.0</td>\n",
       "      <td>0</td>\n",
       "      <td>0</td>\n",
       "      <td>A</td>\n",
       "      <td>7.744581</td>\n",
       "    </tr>\n",
       "    <tr>\n",
       "      <th>4</th>\n",
       "      <td>0.0</td>\n",
       "      <td>0</td>\n",
       "      <td>0</td>\n",
       "      <td>A</td>\n",
       "      <td>10.511814</td>\n",
       "    </tr>\n",
       "    <tr>\n",
       "      <th>5</th>\n",
       "      <td>0.0</td>\n",
       "      <td>0</td>\n",
       "      <td>0</td>\n",
       "      <td>A</td>\n",
       "      <td>9.578727</td>\n",
       "    </tr>\n",
       "    <tr>\n",
       "      <th>6</th>\n",
       "      <td>0.0</td>\n",
       "      <td>0</td>\n",
       "      <td>0</td>\n",
       "      <td>A</td>\n",
       "      <td>6.162601</td>\n",
       "    </tr>\n",
       "    <tr>\n",
       "      <th>7</th>\n",
       "      <td>0.0</td>\n",
       "      <td>0</td>\n",
       "      <td>0</td>\n",
       "      <td>A</td>\n",
       "      <td>11.909452</td>\n",
       "    </tr>\n",
       "    <tr>\n",
       "      <th>8</th>\n",
       "      <td>0.0</td>\n",
       "      <td>0</td>\n",
       "      <td>0</td>\n",
       "      <td>A</td>\n",
       "      <td>6.540910</td>\n",
       "    </tr>\n",
       "    <tr>\n",
       "      <th>9</th>\n",
       "      <td>0.0</td>\n",
       "      <td>0</td>\n",
       "      <td>0</td>\n",
       "      <td>A</td>\n",
       "      <td>7.990794</td>\n",
       "    </tr>\n",
       "  </tbody>\n",
       "</table>\n",
       "</div>"
      ],
      "text/plain": [
       "   revenue  num_purchases  purchase ab_group  av_site visit\n",
       "0      0.0              0         0        A       9.040174\n",
       "1      0.0              0         0        A       4.811628\n",
       "2      0.0              0         0        A       7.342623\n",
       "3      0.0              0         0        A       7.744581\n",
       "4      0.0              0         0        A      10.511814\n",
       "5      0.0              0         0        A       9.578727\n",
       "6      0.0              0         0        A       6.162601\n",
       "7      0.0              0         0        A      11.909452\n",
       "8      0.0              0         0        A       6.540910\n",
       "9      0.0              0         0        A       7.990794"
      ]
     },
     "execution_count": 4,
     "metadata": {},
     "output_type": "execute_result"
    }
   ],
   "source": [
    "data = pd.read_csv('ab_stats.csv')\n",
    "data.head(10)"
   ]
  },
  {
   "cell_type": "code",
   "execution_count": 5,
   "id": "69d047c3",
   "metadata": {},
   "outputs": [
    {
     "name": "stdout",
     "output_type": "stream",
     "text": [
      "<class 'pandas.core.frame.DataFrame'>\n",
      "RangeIndex: 23652 entries, 0 to 23651\n",
      "Data columns (total 5 columns):\n",
      " #   Column         Non-Null Count  Dtype  \n",
      "---  ------         --------------  -----  \n",
      " 0   revenue        23652 non-null  float64\n",
      " 1   num_purchases  23652 non-null  int64  \n",
      " 2   purchase       23652 non-null  int64  \n",
      " 3   ab_group       23652 non-null  object \n",
      " 4   av_site visit  23652 non-null  float64\n",
      "dtypes: float64(2), int64(2), object(1)\n",
      "memory usage: 924.0+ KB\n"
     ]
    }
   ],
   "source": [
    "data.info()"
   ]
  },
  {
   "cell_type": "code",
   "execution_count": 6,
   "id": "9bc379a8",
   "metadata": {},
   "outputs": [
    {
     "data": {
      "text/plain": [
       "(23652, 5)"
      ]
     },
     "execution_count": 6,
     "metadata": {},
     "output_type": "execute_result"
    }
   ],
   "source": [
    "data.shape"
   ]
  },
  {
   "cell_type": "code",
   "execution_count": 7,
   "id": "d355b89f",
   "metadata": {},
   "outputs": [
    {
     "data": {
      "text/html": [
       "<div>\n",
       "<style scoped>\n",
       "    .dataframe tbody tr th:only-of-type {\n",
       "        vertical-align: middle;\n",
       "    }\n",
       "\n",
       "    .dataframe tbody tr th {\n",
       "        vertical-align: top;\n",
       "    }\n",
       "\n",
       "    .dataframe thead th {\n",
       "        text-align: right;\n",
       "    }\n",
       "</style>\n",
       "<table border=\"1\" class=\"dataframe\">\n",
       "  <thead>\n",
       "    <tr style=\"text-align: right;\">\n",
       "      <th></th>\n",
       "      <th>revenue</th>\n",
       "      <th>num_purchases</th>\n",
       "      <th>purchase</th>\n",
       "      <th>av_site visit</th>\n",
       "    </tr>\n",
       "  </thead>\n",
       "  <tbody>\n",
       "    <tr>\n",
       "      <th>count</th>\n",
       "      <td>23652.000000</td>\n",
       "      <td>23652.000000</td>\n",
       "      <td>23652.000000</td>\n",
       "      <td>23652.000000</td>\n",
       "    </tr>\n",
       "    <tr>\n",
       "      <th>mean</th>\n",
       "      <td>0.324689</td>\n",
       "      <td>0.043590</td>\n",
       "      <td>0.020717</td>\n",
       "      <td>7.013112</td>\n",
       "    </tr>\n",
       "    <tr>\n",
       "      <th>std</th>\n",
       "      <td>9.557730</td>\n",
       "      <td>1.079403</td>\n",
       "      <td>0.142438</td>\n",
       "      <td>3.154584</td>\n",
       "    </tr>\n",
       "    <tr>\n",
       "      <th>min</th>\n",
       "      <td>0.000000</td>\n",
       "      <td>0.000000</td>\n",
       "      <td>0.000000</td>\n",
       "      <td>-12.073486</td>\n",
       "    </tr>\n",
       "    <tr>\n",
       "      <th>25%</th>\n",
       "      <td>0.000000</td>\n",
       "      <td>0.000000</td>\n",
       "      <td>0.000000</td>\n",
       "      <td>5.173787</td>\n",
       "    </tr>\n",
       "    <tr>\n",
       "      <th>50%</th>\n",
       "      <td>0.000000</td>\n",
       "      <td>0.000000</td>\n",
       "      <td>0.000000</td>\n",
       "      <td>7.007936</td>\n",
       "    </tr>\n",
       "    <tr>\n",
       "      <th>75%</th>\n",
       "      <td>0.000000</td>\n",
       "      <td>0.000000</td>\n",
       "      <td>0.000000</td>\n",
       "      <td>8.864119</td>\n",
       "    </tr>\n",
       "    <tr>\n",
       "      <th>max</th>\n",
       "      <td>1303.609284</td>\n",
       "      <td>152.000000</td>\n",
       "      <td>1.000000</td>\n",
       "      <td>22.446822</td>\n",
       "    </tr>\n",
       "  </tbody>\n",
       "</table>\n",
       "</div>"
      ],
      "text/plain": [
       "            revenue  num_purchases      purchase  av_site visit\n",
       "count  23652.000000   23652.000000  23652.000000   23652.000000\n",
       "mean       0.324689       0.043590      0.020717       7.013112\n",
       "std        9.557730       1.079403      0.142438       3.154584\n",
       "min        0.000000       0.000000      0.000000     -12.073486\n",
       "25%        0.000000       0.000000      0.000000       5.173787\n",
       "50%        0.000000       0.000000      0.000000       7.007936\n",
       "75%        0.000000       0.000000      0.000000       8.864119\n",
       "max     1303.609284     152.000000      1.000000      22.446822"
      ]
     },
     "execution_count": 7,
     "metadata": {},
     "output_type": "execute_result"
    }
   ],
   "source": [
    "data.describe()"
   ]
  },
  {
   "cell_type": "code",
   "execution_count": 12,
   "id": "36ebc9aa",
   "metadata": {},
   "outputs": [
    {
     "data": {
      "text/plain": [
       "revenue          0\n",
       "num_purchases    0\n",
       "purchase         0\n",
       "ab_group         0\n",
       "av_site visit    0\n",
       "dtype: int64"
      ]
     },
     "execution_count": 12,
     "metadata": {},
     "output_type": "execute_result"
    }
   ],
   "source": [
    "data.isna().sum()"
   ]
  },
  {
   "cell_type": "code",
   "execution_count": 14,
   "id": "456e8f45",
   "metadata": {},
   "outputs": [
    {
     "data": {
      "text/html": [
       "<div>\n",
       "<style scoped>\n",
       "    .dataframe tbody tr th:only-of-type {\n",
       "        vertical-align: middle;\n",
       "    }\n",
       "\n",
       "    .dataframe tbody tr th {\n",
       "        vertical-align: top;\n",
       "    }\n",
       "\n",
       "    .dataframe thead th {\n",
       "        text-align: right;\n",
       "    }\n",
       "</style>\n",
       "<table border=\"1\" class=\"dataframe\">\n",
       "  <thead>\n",
       "    <tr style=\"text-align: right;\">\n",
       "      <th></th>\n",
       "      <th>revenue</th>\n",
       "      <th>num_purchases</th>\n",
       "      <th>purchase</th>\n",
       "      <th>ab_group</th>\n",
       "      <th>av_site visit</th>\n",
       "    </tr>\n",
       "  </thead>\n",
       "  <tbody>\n",
       "    <tr>\n",
       "      <th>45</th>\n",
       "      <td>1.885595</td>\n",
       "      <td>1</td>\n",
       "      <td>1</td>\n",
       "      <td>A</td>\n",
       "      <td>7.654627</td>\n",
       "    </tr>\n",
       "    <tr>\n",
       "      <th>54</th>\n",
       "      <td>1.002159</td>\n",
       "      <td>1</td>\n",
       "      <td>1</td>\n",
       "      <td>A</td>\n",
       "      <td>6.392489</td>\n",
       "    </tr>\n",
       "    <tr>\n",
       "      <th>82</th>\n",
       "      <td>2.990000</td>\n",
       "      <td>1</td>\n",
       "      <td>1</td>\n",
       "      <td>A</td>\n",
       "      <td>8.596604</td>\n",
       "    </tr>\n",
       "    <tr>\n",
       "      <th>104</th>\n",
       "      <td>49.990000</td>\n",
       "      <td>1</td>\n",
       "      <td>1</td>\n",
       "      <td>A</td>\n",
       "      <td>8.885633</td>\n",
       "    </tr>\n",
       "    <tr>\n",
       "      <th>110</th>\n",
       "      <td>22.093757</td>\n",
       "      <td>4</td>\n",
       "      <td>1</td>\n",
       "      <td>A</td>\n",
       "      <td>8.708759</td>\n",
       "    </tr>\n",
       "    <tr>\n",
       "      <th>...</th>\n",
       "      <td>...</td>\n",
       "      <td>...</td>\n",
       "      <td>...</td>\n",
       "      <td>...</td>\n",
       "      <td>...</td>\n",
       "    </tr>\n",
       "    <tr>\n",
       "      <th>23426</th>\n",
       "      <td>2.489611</td>\n",
       "      <td>1</td>\n",
       "      <td>1</td>\n",
       "      <td>B</td>\n",
       "      <td>9.015714</td>\n",
       "    </tr>\n",
       "    <tr>\n",
       "      <th>23493</th>\n",
       "      <td>74.950000</td>\n",
       "      <td>5</td>\n",
       "      <td>1</td>\n",
       "      <td>B</td>\n",
       "      <td>5.881950</td>\n",
       "    </tr>\n",
       "    <tr>\n",
       "      <th>23495</th>\n",
       "      <td>3.667866</td>\n",
       "      <td>1</td>\n",
       "      <td>1</td>\n",
       "      <td>B</td>\n",
       "      <td>7.450014</td>\n",
       "    </tr>\n",
       "    <tr>\n",
       "      <th>23584</th>\n",
       "      <td>19.990000</td>\n",
       "      <td>1</td>\n",
       "      <td>1</td>\n",
       "      <td>B</td>\n",
       "      <td>9.813696</td>\n",
       "    </tr>\n",
       "    <tr>\n",
       "      <th>23616</th>\n",
       "      <td>2.453401</td>\n",
       "      <td>1</td>\n",
       "      <td>1</td>\n",
       "      <td>B</td>\n",
       "      <td>11.909353</td>\n",
       "    </tr>\n",
       "  </tbody>\n",
       "</table>\n",
       "<p>490 rows × 5 columns</p>\n",
       "</div>"
      ],
      "text/plain": [
       "         revenue  num_purchases  purchase ab_group  av_site visit\n",
       "45      1.885595              1         1        A       7.654627\n",
       "54      1.002159              1         1        A       6.392489\n",
       "82      2.990000              1         1        A       8.596604\n",
       "104    49.990000              1         1        A       8.885633\n",
       "110    22.093757              4         1        A       8.708759\n",
       "...          ...            ...       ...      ...            ...\n",
       "23426   2.489611              1         1        B       9.015714\n",
       "23493  74.950000              5         1        B       5.881950\n",
       "23495   3.667866              1         1        B       7.450014\n",
       "23584  19.990000              1         1        B       9.813696\n",
       "23616   2.453401              1         1        B      11.909353\n",
       "\n",
       "[490 rows x 5 columns]"
      ]
     },
     "execution_count": 14,
     "metadata": {},
     "output_type": "execute_result"
    }
   ],
   "source": [
    "new_data = data[data['revenue'] > 0]\n",
    "new_data"
   ]
  },
  {
   "cell_type": "code",
   "execution_count": 19,
   "id": "2bcc627a",
   "metadata": {},
   "outputs": [
    {
     "data": {
      "text/html": [
       "<div>\n",
       "<style scoped>\n",
       "    .dataframe tbody tr th:only-of-type {\n",
       "        vertical-align: middle;\n",
       "    }\n",
       "\n",
       "    .dataframe tbody tr th {\n",
       "        vertical-align: top;\n",
       "    }\n",
       "\n",
       "    .dataframe thead th {\n",
       "        text-align: right;\n",
       "    }\n",
       "</style>\n",
       "<table border=\"1\" class=\"dataframe\">\n",
       "  <thead>\n",
       "    <tr style=\"text-align: right;\">\n",
       "      <th></th>\n",
       "      <th>revenue</th>\n",
       "      <th>num_purchases</th>\n",
       "      <th>purchase</th>\n",
       "      <th>av_site visit</th>\n",
       "    </tr>\n",
       "  </thead>\n",
       "  <tbody>\n",
       "    <tr>\n",
       "      <th>count</th>\n",
       "      <td>234.000000</td>\n",
       "      <td>234.000000</td>\n",
       "      <td>234.0</td>\n",
       "      <td>234.000000</td>\n",
       "    </tr>\n",
       "    <tr>\n",
       "      <th>mean</th>\n",
       "      <td>12.362119</td>\n",
       "      <td>1.841880</td>\n",
       "      <td>1.0</td>\n",
       "      <td>6.844776</td>\n",
       "    </tr>\n",
       "    <tr>\n",
       "      <th>std</th>\n",
       "      <td>19.007065</td>\n",
       "      <td>2.354021</td>\n",
       "      <td>0.0</td>\n",
       "      <td>3.970112</td>\n",
       "    </tr>\n",
       "    <tr>\n",
       "      <th>min</th>\n",
       "      <td>0.259373</td>\n",
       "      <td>1.000000</td>\n",
       "      <td>1.0</td>\n",
       "      <td>-5.646523</td>\n",
       "    </tr>\n",
       "    <tr>\n",
       "      <th>25%</th>\n",
       "      <td>2.319883</td>\n",
       "      <td>1.000000</td>\n",
       "      <td>1.0</td>\n",
       "      <td>4.009016</td>\n",
       "    </tr>\n",
       "    <tr>\n",
       "      <th>50%</th>\n",
       "      <td>3.980000</td>\n",
       "      <td>1.000000</td>\n",
       "      <td>1.0</td>\n",
       "      <td>7.143956</td>\n",
       "    </tr>\n",
       "    <tr>\n",
       "      <th>75%</th>\n",
       "      <td>12.274829</td>\n",
       "      <td>2.000000</td>\n",
       "      <td>1.0</td>\n",
       "      <td>9.776519</td>\n",
       "    </tr>\n",
       "    <tr>\n",
       "      <th>max</th>\n",
       "      <td>113.830000</td>\n",
       "      <td>25.000000</td>\n",
       "      <td>1.0</td>\n",
       "      <td>16.955948</td>\n",
       "    </tr>\n",
       "  </tbody>\n",
       "</table>\n",
       "</div>"
      ],
      "text/plain": [
       "          revenue  num_purchases  purchase  av_site visit\n",
       "count  234.000000     234.000000     234.0     234.000000\n",
       "mean    12.362119       1.841880       1.0       6.844776\n",
       "std     19.007065       2.354021       0.0       3.970112\n",
       "min      0.259373       1.000000       1.0      -5.646523\n",
       "25%      2.319883       1.000000       1.0       4.009016\n",
       "50%      3.980000       1.000000       1.0       7.143956\n",
       "75%     12.274829       2.000000       1.0       9.776519\n",
       "max    113.830000      25.000000       1.0      16.955948"
      ]
     },
     "execution_count": 19,
     "metadata": {},
     "output_type": "execute_result"
    }
   ],
   "source": [
    "new_data[data['ab_group']=='B'].describe()"
   ]
  },
  {
   "cell_type": "code",
   "execution_count": 20,
   "id": "c3d33348",
   "metadata": {},
   "outputs": [
    {
     "data": {
      "text/html": [
       "<div>\n",
       "<style scoped>\n",
       "    .dataframe tbody tr th:only-of-type {\n",
       "        vertical-align: middle;\n",
       "    }\n",
       "\n",
       "    .dataframe tbody tr th {\n",
       "        vertical-align: top;\n",
       "    }\n",
       "\n",
       "    .dataframe thead th {\n",
       "        text-align: right;\n",
       "    }\n",
       "</style>\n",
       "<table border=\"1\" class=\"dataframe\">\n",
       "  <thead>\n",
       "    <tr style=\"text-align: right;\">\n",
       "      <th></th>\n",
       "      <th>revenue</th>\n",
       "      <th>num_purchases</th>\n",
       "      <th>purchase</th>\n",
       "      <th>av_site visit</th>\n",
       "    </tr>\n",
       "  </thead>\n",
       "  <tbody>\n",
       "    <tr>\n",
       "      <th>count</th>\n",
       "      <td>256.000000</td>\n",
       "      <td>256.000000</td>\n",
       "      <td>256.0</td>\n",
       "      <td>256.000000</td>\n",
       "    </tr>\n",
       "    <tr>\n",
       "      <th>mean</th>\n",
       "      <td>18.698469</td>\n",
       "      <td>2.343750</td>\n",
       "      <td>1.0</td>\n",
       "      <td>6.753074</td>\n",
       "    </tr>\n",
       "    <tr>\n",
       "      <th>std</th>\n",
       "      <td>87.527589</td>\n",
       "      <td>9.723582</td>\n",
       "      <td>0.0</td>\n",
       "      <td>2.043753</td>\n",
       "    </tr>\n",
       "    <tr>\n",
       "      <th>min</th>\n",
       "      <td>0.259689</td>\n",
       "      <td>1.000000</td>\n",
       "      <td>1.0</td>\n",
       "      <td>0.996753</td>\n",
       "    </tr>\n",
       "    <tr>\n",
       "      <th>25%</th>\n",
       "      <td>2.318301</td>\n",
       "      <td>1.000000</td>\n",
       "      <td>1.0</td>\n",
       "      <td>5.281247</td>\n",
       "    </tr>\n",
       "    <tr>\n",
       "      <th>50%</th>\n",
       "      <td>4.283160</td>\n",
       "      <td>1.000000</td>\n",
       "      <td>1.0</td>\n",
       "      <td>6.871241</td>\n",
       "    </tr>\n",
       "    <tr>\n",
       "      <th>75%</th>\n",
       "      <td>11.923141</td>\n",
       "      <td>2.000000</td>\n",
       "      <td>1.0</td>\n",
       "      <td>8.257506</td>\n",
       "    </tr>\n",
       "    <tr>\n",
       "      <th>max</th>\n",
       "      <td>1303.609284</td>\n",
       "      <td>152.000000</td>\n",
       "      <td>1.0</td>\n",
       "      <td>12.504262</td>\n",
       "    </tr>\n",
       "  </tbody>\n",
       "</table>\n",
       "</div>"
      ],
      "text/plain": [
       "           revenue  num_purchases  purchase  av_site visit\n",
       "count   256.000000     256.000000     256.0     256.000000\n",
       "mean     18.698469       2.343750       1.0       6.753074\n",
       "std      87.527589       9.723582       0.0       2.043753\n",
       "min       0.259689       1.000000       1.0       0.996753\n",
       "25%       2.318301       1.000000       1.0       5.281247\n",
       "50%       4.283160       1.000000       1.0       6.871241\n",
       "75%      11.923141       2.000000       1.0       8.257506\n",
       "max    1303.609284     152.000000       1.0      12.504262"
      ]
     },
     "execution_count": 20,
     "metadata": {},
     "output_type": "execute_result"
    }
   ],
   "source": [
    "new_data[data['ab_group']=='A'].describe()"
   ]
  },
  {
   "cell_type": "code",
   "execution_count": 23,
   "id": "280e750e",
   "metadata": {},
   "outputs": [
    {
     "data": {
      "image/png": "[encoded data removed]",
      "text/plain": [
       "<Figure size 1000x1000 with 1 Axes>"
      ]
     },
     "metadata": {},
     "output_type": "display_data"
    }
   ],
   "source": [
    "plt.figure(figsize=(10, 10))\n",
    "control_visit_all = new_data['revenue'][data['ab_group']=='A']\n",
    "test_visit_all = new_data['revenue'][data['ab_group']=='B']\n",
    "\n",
    "plt.hist(control_visit_all, color='r', bins=50)\n",
    "plt.hist(test_visit_all, bins=50)\n",
    "\n",
    "plt.show()"
   ]
  },
  {
   "cell_type": "code",
   "execution_count": 24,
   "id": "b2bcf554",
   "metadata": {},
   "outputs": [
    {
     "data": {
      "text/plain": [
       "Ttest_indResult(statistic=1.1295123189663723, pvalue=0.2596444677902523)"
      ]
     },
     "execution_count": 24,
     "metadata": {},
     "output_type": "execute_result"
    }
   ],
   "source": [
    "ttest_ind(control_visit_all, test_visit_all, equal_var = False)"
   ]
  },
  {
   "cell_type": "markdown",
   "id": "a7f7cc1e",
   "metadata": {},
   "source": [
    "pvalue > 0.05  \n",
    "Значимых изменений нет"
   ]
  },
  {
   "cell_type": "code",
   "execution_count": 25,
   "id": "686da748",
   "metadata": {},
   "outputs": [
    {
     "name": "stdout",
     "output_type": "stream",
     "text": [
      "KstestResult(statistic=0.8312038740127529, pvalue=5.535202851866459e-197, statistic_location=1.9727, statistic_sign=-1)\n",
      "KstestResult(statistic=0.8635160979681316, pvalue=1.877582850318663e-202, statistic_location=1.953625, statistic_sign=-1)\n"
     ]
    }
   ],
   "source": [
    "print(kstest(control_visit_all, 'norm'))\n",
    "print(kstest(test_visit_all, 'norm'))"
   ]
  },
  {
   "cell_type": "markdown",
   "id": "1150bf13",
   "metadata": {},
   "source": [
    "pvalue < 0.05  \n",
    "Отвергаем нулевую гипотезу - распределение данных не нормальное"
   ]
  },
  {
   "cell_type": "code",
   "execution_count": 26,
   "id": "8ba58ab3",
   "metadata": {},
   "outputs": [
    {
     "data": {
      "text/plain": [
       "MannwhitneyuResult(statistic=29729.5, pvalue=0.8871956616344514)"
      ]
     },
     "execution_count": 26,
     "metadata": {},
     "output_type": "execute_result"
    }
   ],
   "source": [
    "mannwhitneyu(control_visit_all, test_visit_all)"
   ]
  },
  {
   "cell_type": "markdown",
   "id": "4e579296",
   "metadata": {},
   "source": [
    "pvalue > 0.05  \n",
    "0 гипотеза не отвергается, статистически значимых изменений нет"
   ]
  },
  {
   "cell_type": "code",
   "execution_count": 27,
   "id": "2a13acd2",
   "metadata": {},
   "outputs": [],
   "source": [
    "def get_bootstrap(\n",
    "    data_column_1,\n",
    "    data_column_2,\n",
    "    boot_it = 1000,\n",
    "    statistic = np.mean,\n",
    "    bootstrap_conf_level = 0.95\n",
    "    ):\n",
    "    boot_len = max([len(data_column_1), len(data_column_2)])\n",
    "    boot_data = []\n",
    "    for i in tqdm(range(boot_it)):\n",
    "        samples_1 = data_column_1.sample(\n",
    "            boot_len, \n",
    "            replace = True\n",
    "            ).values\n",
    "        \n",
    "        samples_2 = data_column_2.sample(\n",
    "            boot_len,\n",
    "            replace = True\n",
    "            ).values\n",
    "\n",
    "        boot_data.append(statistic(samples_1)-statistic(samples_2))\n",
    "    pd_boot_data = pd.DataFrame(boot_data)\n",
    "\n",
    "        \n",
    "    left_quant = (1 - bootstrap_conf_level)/2\n",
    "    right_quant = 1 - (1 - bootstrap_conf_level) / 2\n",
    "    quants = pd_boot_data.quantile([left_quant, right_quant])\n",
    "        \n",
    "    p_1 = norm.cdf(\n",
    "        x = 0, \n",
    "        loc = np.mean(boot_data), \n",
    "        scale = np.std(boot_data)\n",
    "    )\n",
    "    p_2 = norm.cdf(\n",
    "        x = 0, \n",
    "        loc = -np.mean(boot_data), \n",
    "        scale = np.std(boot_data)\n",
    "    )\n",
    "    p_value = min(p_1, p_2) * 2\n",
    "        \n",
    "    _, _, bars = plt.hist(pd_boot_data[0], bins = 50)\n",
    "    for bar in bars:\n",
    "        if abs(bar.get_x()) <= quants.iloc[0][0] or abs(bar.get_x()) >= quants.iloc[1][0]:\n",
    "            bar.set_facecolor('red')\n",
    "        else: \n",
    "            bar.set_facecolor('grey')\n",
    "            bar.set_edgecolor('black')\n",
    "    \n",
    "    plt.style.use('ggplot')\n",
    "    plt.vlines(quants,ymin=0,ymax=50,linestyle='--')\n",
    "    plt.xlabel('Значение метрики')\n",
    "    plt.ylabel('Частота')\n",
    "    plt.title(\"Гистограмма распределения\")\n",
    "    plt.show()\n",
    "       \n",
    "    return {\"quants\": quants, \n",
    "            \"p_value\": p_value}\n"
   ]
  },
  {
   "cell_type": "code",
   "execution_count": 28,
   "id": "55dcdbfc",
   "metadata": {},
   "outputs": [
    {
     "name": "stderr",
     "output_type": "stream",
     "text": [
      "100%|██████████████████████████████████████████████████████████████████████████| 10000/10000 [00:04<00:00, 2480.15it/s]\n"
     ]
    },
    {
     "data": {
      "image/png": "[encoded data removed]",
      "text/plain": [
       "<Figure size 800x550 with 1 Axes>"
      ]
     },
     "metadata": {},
     "output_type": "display_data"
    },
    {
     "name": "stdout",
     "output_type": "stream",
     "text": [
      "p_value 0.19916995364731582\n"
     ]
    }
   ],
   "source": [
    "plt.style.use('seaborn')\n",
    "pd.options.display.float_format = '{:,.2f}'.format\n",
    "\n",
    "booted_data = get_bootstrap(data['revenue'][data['ab_group']=='A'],\n",
    "                            data['revenue'][data['ab_group']=='B'],\n",
    "                            boot_it = 10000)\n",
    "\n",
    "print('p_value', booted_data['p_value'])"
   ]
  },
  {
   "cell_type": "markdown",
   "id": "82b25c3b",
   "metadata": {},
   "source": [
    "p_value > 0.05  \n",
    "Нет статистической значимости  \n",
    "\n",
    "Ответ: Нулевая гипотеза не отвергается, оставляем исходный вариант"
   ]
  }
 ],
 "metadata": {
  "kernelspec": {
   "display_name": "Python 3 (ipykernel)",
   "language": "python",
   "name": "python3"
  },
  "language_info": {
   "codemirror_mode": {
    "name": "ipython",
    "version": 3
   },
   "file_extension": ".py",
   "mimetype": "text/x-python",
   "name": "python",
   "nbconvert_exporter": "python",
   "pygments_lexer": "ipython3",
   "version": "3.11.1"
  },
  "vscode": {
   "interpreter": {
    "hash": "54c843019337f05979ffbb2eaecfdb77b7df86622fb79d5871bba6457374c4df"
   }
  }
 },
 "nbformat": 4,
 "nbformat_minor": 5
}
